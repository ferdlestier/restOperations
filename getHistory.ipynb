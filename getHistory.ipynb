{
 "cells": [
  {
   "cell_type": "markdown",
   "metadata": {
    "slideshow": {
     "slide_type": "slide"
    }
   },
   "source": [
    "# HAPI V2 Training\n",
    "## Chapter 1 - Bulk\n",
    "#### Table of Contents\n",
    "\n",
    "- Section 1 - JSON and Python Recap (optional)\n",
    "- Section 2 - Initialization\n",
    "- Section 3 - Exploration (optional)\n",
    "- Section 4 - Download Dataset\n",
    "- Section 5 - SSE Notification"
   ]
  },
  {
   "cell_type": "markdown",
   "metadata": {},
   "source": [
    "### Housekeeping\n",
    "\n",
    "1) cell output scroll setup:\n",
    "   * highlight all cells (Ctrl+A)\n",
    "   * right-click on any and select \"Enable Scrolling for Outputs\""
   ]
  },
  {
   "cell_type": "markdown",
   "metadata": {},
   "source": [
    "### Section 1 - JSON and Python Recap"
   ]
  },
  {
   "cell_type": "code",
   "execution_count": null,
   "metadata": {},
   "outputs": [],
   "source": [
    "# JSON string\n",
    "a = '{\"name\":\"John Doe\", \"email\":\"jdoe1234@bloomberg.net\", \"uuid\":\"12345678\"}'\n",
    "\n",
    "# python dict\n",
    "b =  {\"name\":\"John Doe\", \"email\":\"jdoe1234@bloomberg.net\", \"uuid\":\"12345678\"}"
   ]
  },
  {
   "cell_type": "code",
   "execution_count": null,
   "metadata": {},
   "outputs": [],
   "source": [
    "# accessing string: by position\n",
    "print(a[9:17])"
   ]
  },
  {
   "cell_type": "code",
   "execution_count": null,
   "metadata": {},
   "outputs": [],
   "source": [
    "# accessing dictionary: by key\n",
    "print(b['name'])"
   ]
  },
  {
   "cell_type": "code",
   "execution_count": null,
   "metadata": {},
   "outputs": [],
   "source": [
    "# convert a JSON string to python dictionary\n",
    "import json\n",
    "c = json.loads(a)\n",
    "print(c==b)"
   ]
  },
  {
   "cell_type": "markdown",
   "metadata": {},
   "source": [
    "- Sample JSON from HAPI field query result\n",
    "- Convert it to python dictionary and extract information"
   ]
  },
  {
   "cell_type": "code",
   "execution_count": null,
   "metadata": {},
   "outputs": [],
   "source": [
    "import json\n",
    "d = '''\n",
    "{\n",
    "    \"@context\": {\n",
    "        \"@base\": \"https://api.bloomberg.com/eap/catalogs/bbg/fields/idBbGlobal/\",\n",
    "        \"@vocab\": \"https://api.bloomberg.com/eap/ontology#\"\n",
    "    },\n",
    "    \"@id\": \"\",\n",
    "    \"@type\": [\n",
    "        \"Collection\",\n",
    "        \"BasicContainer\",\n",
    "        \"Field\"\n",
    "    ],\n",
    "    \"Created\": \"Mon, 17 Aug 2009 00:00:00 GMT\",\n",
    "    \"DL Category\": \"User Entered Information\",\n",
    "    \"DL Commercial Model Category\": \"Open Source\",\n",
    "    \"DL: Extended Bulk\": true,\n",
    "    \"DL:Bulk\": true,\n",
    "    \"Data License\": true,\n",
    "    \"Description\": \"Financial Instrument Global Identifier\",\n",
    "    \"Field Id\": \"ID135\",\n",
    "    \"Field Type\": \"Character\",\n",
    "    \"IRI\": \"https://api.bloomberg.com/eap/catalogs/bbg/fields/idBbGlobal/\",\n",
    "    \"Is Abstract\": false,\n",
    "    \"Loading Speed\": \"Hare\",\n",
    "    \"Mnemonic\": \"ID_BB_GLOBAL\",\n",
    "    \"Old Mnemonic\": null,\n",
    "    \"Platform: Static\": false,\n",
    "    \"Platform: Streaming\": false,\n",
    "    \"Platform: Terminal Required\": false,\n",
    "    \"Range\": \"FinancialInstrument\",\n",
    "    \"SAPI New Security Setup\": true,\n",
    "    \"Standard Decimal Places\": null,\n",
    "    \"Standard Width\": null,\n",
    "    \"SuperPropertyIRI\": \"https://api.bloomberg.com/eap/catalogs/bbg/fields/instrumentIdentifier/\",\n",
    "    \"YK: Commodity\": true,\n",
    "    \"YK: Corporate\": true,\n",
    "    \"YK: Currency\": true,\n",
    "    \"YK: Equity\": true,\n",
    "    \"YK: Index\": true,\n",
    "    \"YK: Money Market\": true,\n",
    "    \"YK: Mortgage\": true,\n",
    "    \"YK: Municipal\": true,\n",
    "    \"YK: Preferred\": true,\n",
    "    \"YK: US Government\": true,\n",
    "    \"description\": \"Twelve character, alphanumeric identifier. The first 2 characters are upper-case consonants (including \\\\\"Y\\\\\"), the third character is the upper-case \\\\\"G\\\\\", characters 4 -11 are any upper-case consonant (including \\\\\"Y\\\\\") or integer between 0 and 9, and the last character is a check-digit. An identifier is assigned to instruments of all asset classes, is unique to an individual instrument and once issued will not change for an instrument. For Equity instruments, ID135 is assigned specifically at the exchange/trading venue level.\",\n",
    "    \"identifier\": \"idBbGlobal\",\n",
    "    \"rdf:langString\": null,\n",
    "    \"title\": \"Financial Instrument Global Identifier\",\n",
    "    \"xsd:fractionDigits\": null,\n",
    "    \"xsd:length\": 12,\n",
    "    \"xsd:maxExclusive\": null,\n",
    "    \"xsd:maxInclusive\": null,\n",
    "    \"xsd:maxLength\": null,\n",
    "    \"xsd:minExclusive\": null,\n",
    "    \"xsd:minInclusive\": null,\n",
    "    \"xsd:minLength\": null,\n",
    "    \"xsd:pattern\": \"((BBG)[BCDFGHJKLMNPQRSTVWXYZ\\\\\\\\d]{8}\\\\\\\\d)\",\n",
    "    \"xsd:type\": \"xsd:token\"\n",
    "}\n",
    "'''\n",
    "\n",
    "# fld is a python dictionary, from which we can easily extract useful info:\n",
    "fld = json.loads(d)\n",
    "\n",
    "print(\"Clean Name :\", fld['identifier'])\n",
    "print(\"Mnemonic   :\", fld['Mnemonic'])\n",
    "print(\"Field Id   :\", fld['Field Id'])"
   ]
  },
  {
   "cell_type": "markdown",
   "metadata": {},
   "source": [
    "### Section 2 - Initialization\n",
    "\n",
    "\n",
    "In order to ensure that authentication is correctly handled, \"beap_auth.py\" script, provided by Bloomberg, is recommended. It is available for download from the Customer Service Center (CSC):\n",
    "https://service.blpprofessional.com/portal/downloadcenter\n",
    "(Choose the Python sample code under HAPI section)\n",
    "\n",
    "`pip install -r requirements.txt`\n",
    "\n",
    "\n",
    "Also, client need to download credential file from Enterprise Console and whitelist their IP. This will be covered in separate training sessions."
   ]
  },
  {
   "cell_type": "code",
   "execution_count": null,
   "metadata": {},
   "outputs": [],
   "source": [
    "!pip install -r requirements.txt"
   ]
  },
  {
   "cell_type": "markdown",
   "metadata": {},
   "source": [
    "#### 2.1 Initialize a 'Session'\n",
    "The below code will do the following:\n",
    "- import the necessary libraries to use such as beap_auth\n",
    "- extract the credentials information from our credential.txt file\n",
    "- start the session to be able to start interacting with HAPI"
   ]
  },
  {
   "cell_type": "markdown",
   "metadata": {},
   "source": [
    "#### 2.2 Documentation\n",
    "\n",
    "JWT Authentication\n",
    "\n",
    "https://console.bloomberg.com/#/firm/OTAwMQ==/dev-console/docs?specUri=%2Fauthenticate%2Fv1%2Fdocumentation.json\n",
    "\n",
    "Catalogs\n",
    "\n",
    "https://service.blpprofessional.com/track_download/assets/HAPI/#tag/catalog\n",
    "\n",
    "https://service.blpprofessional.com/track_download/assets/data-license/#2-5-catalogs"
   ]
  },
  {
   "cell_type": "code",
   "execution_count": null,
   "metadata": {
    "scrolled": true
   },
   "outputs": [],
   "source": [
    "import requests\n",
    "# Get ``Credentials`` and ``BEAPAdapater`` classes from beap_auth.py.\n",
    "# JWT authentication tokens are constructed using the ``Credentials`` class.\n",
    "# A token is injected into every request using the ``BEAPAdapter`` class.\n",
    "from beap_lib.beap_auth import Credentials, BEAPAdapter\n",
    "\n",
    "# Obtain credentials\n",
    "# Replace the path with path to your credential file from console.bloomberg.com\n",
    "CREDS = Credentials.from_file('Credentials/credential_Bulk.txt')\n",
    "\n",
    "# Initialize the session\n",
    "session = requests.Session()\n",
    "session.mount('https://', BEAPAdapter(CREDS))\n"
   ]
  },
  {
   "cell_type": "code",
   "execution_count": null,
   "metadata": {},
   "outputs": [],
   "source": [
    "HOST = \"https://api.bloomberg.com\" # api.blpprofessional.com for China\n",
    "CATALOG = '/eap/catalogs/bbg/' # always 'bbg' for BULK\n",
    "\n",
    "base_url=HOST+CATALOG\n",
    "print(\"Base URL:\", base_url)\n",
    "\n",
    "response = session.get(base_url)\n",
    "response\n",
    "#response.json()"
   ]
  },
  {
   "cell_type": "markdown",
   "metadata": {
    "tags": []
   },
   "source": [
    "### 2.1 Trouble Shooting\n",
    "#### Common Errors\n",
    "\n",
    "- Expired Credential\n",
    "```javascript\n",
    "{'errors': [{'title': 'unauthorized_client',\n",
    "   'id': '269281e3-c4a5-4bb0-cb13-1614f8ae508a',\n",
    "   'meta': {'server-time': 1639012888},\n",
    "   'errorCode': 'unauthorized-client',\n",
    "   'status': 401,\n",
    "   'detail': 'Credential has expired.'}],\n",
    " 'error_description': 'Credential has expired.',\n",
    " 'error': 'unauthorized_client'}\n",
    "```\n",
    "\n",
    "- IP not whitelist\n",
    "```javascript\n",
    " {'errors': [{'title': 'unauthorized_client',\n",
    "   'id': '43e63713-ebe5-49a1-c99a-cb9c004a8f20',\n",
    "   'meta': {'server-time': 1639013210},\n",
    "   'errorCode': 'unauthorized-client',\n",
    "   'status': 401,\n",
    "   'detail': 'Invalid IP, IP 10.144.58.197 not whitelisted'}],\n",
    " 'error_description': 'Invalid IP, IP 10.144.58.197 not whitelisted',\n",
    " 'error': 'unauthorized_client'}\n",
    "```"
   ]
  },
  {
   "cell_type": "markdown",
   "metadata": {},
   "source": [
    "#### Support Team:\n",
    "You can search all HAPI request on Humio:\n",
    "\n",
    "https://humio.prod.bloomberg.com/bci/search\n",
    "\n",
    "Input its request ID (preferred), URL path, client_id, DL account, etc.\n",
    "\n",
    "\n",
    "\n",
    "TEAM:\n",
    "https://cms.prod.bloomberg.com/team/pages/viewpage.action?pageId=1324615504"
   ]
  },
  {
   "cell_type": "code",
   "execution_count": null,
   "metadata": {},
   "outputs": [],
   "source": [
    "response.headers"
   ]
  },
  {
   "cell_type": "code",
   "execution_count": null,
   "metadata": {},
   "outputs": [],
   "source": [
    "print(response.headers['X-Request-ID'])"
   ]
  },
  {
   "cell_type": "markdown",
   "metadata": {},
   "source": [
    "### Section 3 - Exploration"
   ]
  },
  {
   "cell_type": "markdown",
   "metadata": {},
   "source": [
    "Now that we are set up, we can start hitting various URLs to replicate the same functionality that we see on the BEAP website. The below sample code does just that. There are a variety of URLs specified, split between the discovery of fields and files.\n",
    "\n",
    "It is good to first off start with the catalogs available which show the structure of the API."
   ]
  },
  {
   "cell_type": "markdown",
   "metadata": {},
   "source": [
    "#### 3.1 Explore the datasets\n",
    "Now that we are all set, we can start querying various URLs."
   ]
  },
  {
   "cell_type": "code",
   "execution_count": null,
   "metadata": {},
   "outputs": [],
   "source": [
    "dataset_url = base_url+'datasets/'\n",
    "print('GET URL:', dataset_url)\n",
    "response = session.get(dataset_url)\n",
    "response.json()\n",
    "print(\"Total datasets:\", response.json()['totalItems'])\n"
   ]
  },
  {
   "cell_type": "markdown",
   "metadata": {},
   "source": [
    "#### 3.2 Show only my *subscribed* datasets (V2 new feature)\n",
    "https://service.blpprofessional.com/track_download/assets/HAPI/#section/New-Features/Show-Subscribed-Datasets"
   ]
  },
  {
   "cell_type": "code",
   "execution_count": null,
   "metadata": {},
   "outputs": [],
   "source": [
    "url = dataset_url+'?subscribed=true'\n",
    "print('GET URL', url)\n",
    "response = session.get(url)\n",
    "print(\"Subscribed datasets:\", response.json()['totalItems'])"
   ]
  },
  {
   "cell_type": "markdown",
   "metadata": {
    "jp-MarkdownHeadingCollapsed": true,
    "tags": []
   },
   "source": [
    "#### 3.3 Search datasets\n",
    "https://service.blpprofessional.com/track_download/assets/HAPI/#section/Getting-Started/Search"
   ]
  },
  {
   "cell_type": "code",
   "execution_count": null,
   "metadata": {
    "scrolled": true
   },
   "outputs": [],
   "source": [
    "url = dataset_url + '?q=equity+asia'\n",
    "print('GET URL', url)\n",
    "response = session.get(url)\n",
    "response.json()"
   ]
  },
  {
   "cell_type": "markdown",
   "metadata": {},
   "source": [
    "#### 3.4 Pagination\n",
    "https://service.blpprofessional.com/track_download/assets/HAPI/#section/Getting-Started/Pagination"
   ]
  },
  {
   "cell_type": "code",
   "execution_count": null,
   "metadata": {},
   "outputs": [],
   "source": [
    "url = dataset_url + '?page=20'\n",
    "print(\"GET URL:\", url)\n",
    "response = session.get(url)\n",
    "#response.json()\n",
    "print(\"Total pages:\", response.json()['pageCount'])\n",
    "print(\"Navigation:\", json.dumps(response.json()['view'], indent=4))"
   ]
  },
  {
   "cell_type": "markdown",
   "metadata": {},
   "source": [
    "#### 3.5 Explore fields"
   ]
  },
  {
   "cell_type": "code",
   "execution_count": null,
   "metadata": {},
   "outputs": [],
   "source": [
    "fields_url = base_url + 'fields/'\n",
    "url = fields_url + 'pxLast/'\n",
    "print(\"GET URL:\", url)\n",
    "response = session.get(url)\n",
    "response.json()"
   ]
  },
  {
   "cell_type": "markdown",
   "metadata": {},
   "source": [
    "<div class=\"alert alert-block alert-success\">\n",
    "\n",
    "#### Practice Time!\n",
    "</div>"
   ]
  },
  {
   "cell_type": "code",
   "execution_count": null,
   "metadata": {},
   "outputs": [],
   "source": [
    "#Discovery of files\n",
    "##########################\n",
    "url1 = '/eap/catalogs/bbg/datasets/'\n",
    "url2 = '/eap/catalogs/bbg/datasets/?page=1&q=apptopia'\n",
    "url3 = '/eap/catalogs/bbg/datasets/?q=equity'\n",
    "url4 = '/eap/catalogs/bbg/datasets/equityNamr/'\n",
    "url5 = '/eap/catalogs/bbg/datasets/equityNamr/snapshots/'\n",
    "url6 = '/eap/catalogs/bbg/datasets/equityNamr/snapshots/20200505/'\n",
    "url7 = '/eap/catalogs/bbg/datasets/equityNamr/snapshots/20200505/distributions/'\n",
    "url8 = '/eap/catalogs/bbg/fields/?q=pxLastPostSession'\n",
    "\n",
    "#Discovery of fields\n",
    "##########################\n",
    "url9 = '/eap/catalogs/bbg/fields/pxLast/'\n",
    "url10 = '/eap/catalogs/bbg/fields/?q=close+price'"
   ]
  },
  {
   "cell_type": "markdown",
   "metadata": {},
   "source": [
    "The above are some sample URLs that can be queried. Any of the variables above can be used:"
   ]
  },
  {
   "cell_type": "code",
   "execution_count": null,
   "metadata": {},
   "outputs": [],
   "source": [
    "response = session.get(HOST+url10) # replace url1 with the url suffix\n",
    "response.json()"
   ]
  },
  {
   "cell_type": "markdown",
   "metadata": {},
   "source": [
    "### Section 4 - Download Dataset"
   ]
  },
  {
   "cell_type": "code",
   "execution_count": null,
   "metadata": {},
   "outputs": [],
   "source": [
    "from beap_lib.beap_auth import download\n",
    "\n",
    "download?"
   ]
  },
  {
   "cell_type": "code",
   "execution_count": null,
   "metadata": {},
   "outputs": [],
   "source": [
    "url = base_url + 'datasets/equityAsia2/snapshots/latest/distributions/equityAsia2.csv'\n",
    "\n",
    "download(session, url, './equityAsia2.csv')"
   ]
  },
  {
   "cell_type": "markdown",
   "metadata": {},
   "source": [
    "#### 4.1 Downloading a specific file from a given dataset (obsolete)\n",
    "\n",
    "The below code allows users to download a given file from a specific url and save it to local"
   ]
  },
  {
   "cell_type": "code",
   "execution_count": null,
   "metadata": {},
   "outputs": [],
   "source": [
    "def download_distribution(session, url, output_file, chunk_size=8192,\n",
    "                          stream=True, headers={'Accept-Encoding': 'Identity'}):\n",
    "    \"\"\"\n",
    "    Function to download the data to an output directory\n",
    "\n",
    "    This function opts for the gzip output encoding by default and allows the\n",
    "    user to specify the output location of this download. This function works\n",
    "    for a single endpoint.\n",
    "\n",
    "    You may set the 'Accept-Encoding' header to 'Identity' if you do not\n",
    "    want receive the gzipped file.\n",
    "\n",
    "    Set 'chunk_size' to a larger byte size to speed up download process on\n",
    "    larger downloads.\n",
    "    \"\"\"\n",
    "    print(datetime.now(), 'Start downloading:', url)\n",
    "    response = session.get(url, stream=stream, headers=headers)\n",
    "    with open(output_file, 'wb') as out_file:\n",
    "        for chunk in response.raw.stream(chunk_size, decode_content=False):\n",
    "            out_file.write(chunk)\n",
    "        response.close()\n",
    "        print(datetime.now(), 'File saved into:', output_file)\n",
    "        return response"
   ]
  },
  {
   "cell_type": "code",
   "execution_count": null,
   "metadata": {},
   "outputs": [],
   "source": [
    "# Download a zipped distribution to a specified location\n",
    "# Replace below: PATH with the distribution you want to download and\n",
    "# OUTPUT_FILE as the location and filename you want downloaded\n",
    "\n",
    "\n",
    "equitynamr_distributions_path = '/eap/catalogs/bbg/datasets/equityNamr/snapshots/latest/distributions/equityNamrSample.csv'\n",
    "sample_url = HOST+equitynamr_distributions_path\n",
    "\n",
    "output_file = \"equityNamrSample.csv\"\n",
    "response = download_distribution(session, sample_url, output_file)\n",
    "print(\"Status: {s}\".format(s=response.status_code))\n",
    "print(\"Content-Encoding: {h}\".format(h=response.headers['Content-Encoding']))\n",
    "print(\"Content-Length: {b} bytes\".format(b=response.headers['Content-Length']))"
   ]
  },
  {
   "cell_type": "markdown",
   "metadata": {},
   "source": [
    "#### 4.2 Explore all historical snapshots of a dataset"
   ]
  },
  {
   "cell_type": "code",
   "execution_count": null,
   "metadata": {},
   "outputs": [],
   "source": [
    "# Change the page number to see different result\n",
    "equitynamr_path = '/eap/catalogs/bbg/datasets/equityNamr/snapshots/'\n",
    "url = HOST+equitynamr_path\n",
    "print(\"GET URL:\", url)\n",
    "response = session.get(url)\n",
    "\n",
    "# Grab the total page count\n",
    "page_count = response.json()['pageCount']\n",
    "print(\"Page count:\", page_count)\n",
    "\n",
    "# Generate a list of snapshots\n",
    "snapshots = [item['identifier'] for item in response.json()['contains']]\n",
    "snapshots"
   ]
  },
  {
   "cell_type": "markdown",
   "metadata": {},
   "source": [
    "## Section 5 - SSE Notification\n",
    "\n",
    "### 5.1 Listen on SSE endpoint \n",
    "- https://api.bloomberg.com/eap/notifications/sse\n",
    "- For demo purpose, all notifications are stored into the in-memory list 'sseList'\n",
    "- https://service.blpprofessional.com/track_download/assets/data-license/#2-9-push-notifications"
   ]
  },
  {
   "cell_type": "code",
   "execution_count": null,
   "metadata": {},
   "outputs": [],
   "source": [
    "from sseclient import SSEClient\n",
    "from threading import Thread\n",
    "sseThread = None\n",
    "\n",
    "# whenever new notification arrived, it will be appended into this list\n",
    "def sse_run():\n",
    "    global sseHB\n",
    "    global sseList\n",
    "    \n",
    "    # Create an empty notification list\n",
    "    sseList = []\n",
    "    sseHB = 0\n",
    "    \n",
    "    # Initiate SSE client\n",
    "    sse_url = HOST+'/eap/notifications/sse'\n",
    "    print(datetime.now(), 'Start listening notification:', sse_url)\n",
    "    sse_client = SSEClient(sse_url, session)\n",
    "    print(datetime.now(), 'SSE connected')\n",
    "    \n",
    "    while(True):\n",
    "        event = sse_client.read_event()\n",
    "        if event.is_heartbeat():\n",
    "            # Heartbeat generates once every 10 seconds\n",
    "            # do nothing for heartbeat\n",
    "            sseHB+=1\n",
    "        else:\n",
    "            # If not heartbeat, append the event into notification list\n",
    "            sseList.append(event.data)\n",
    "\n",
    "# create a worker thread and run it in the background\n",
    "\n",
    "def start_sse():\n",
    "    global sseThread\n",
    "    if sseThread is not None:\n",
    "        print('SSE thread already started')\n",
    "        return\n",
    "    sseThread = Thread(target=sse_run)\n",
    "    sseThread.start()\n",
    "    \n",
    "start_sse()"
   ]
  },
  {
   "cell_type": "markdown",
   "metadata": {},
   "source": [
    "#### 5.2 Printing the notifications received so far\n",
    "- Even there is no notifications, heartbeat will still be sent every 10 seconds"
   ]
  },
  {
   "cell_type": "code",
   "execution_count": null,
   "metadata": {},
   "outputs": [],
   "source": [
    "print('Total notifications:', len(sseList), '\\tTotal heartbeats:', sseHB)\n",
    "print('The first 10 notifications:')\n",
    "for i in range(min(len(sseList), 10)):\n",
    "    sse=json.loads(sseList[i])\n",
    "    print(i, sse['generated']['@id'])"
   ]
  },
  {
   "cell_type": "markdown",
   "metadata": {},
   "source": [
    "### 5.3 Download file according to notification event"
   ]
  },
  {
   "cell_type": "code",
   "execution_count": null,
   "metadata": {},
   "outputs": [],
   "source": [
    "import os.path\n",
    "def download_by_sse(sseInput):   \n",
    "    if os.path.isfile(sseInput):\n",
    "        # load from file\n",
    "        sse = json.load(open(sseInput, 'r'))\n",
    "    else:\n",
    "        # load from string\n",
    "        sse = json.loads(sseInput)    \n",
    "    url = sse['generated']['@id']\n",
    "\n",
    "    download_distribution(session, url, 'output.dat')\n",
    "    \n",
    "      \n",
    "download_by_sse('sample_sse_bulk.json')"
   ]
  },
  {
   "cell_type": "markdown",
   "metadata": {},
   "source": [
    "### 5.4 Validate file integrity by comparing digest value"
   ]
  },
  {
   "cell_type": "code",
   "execution_count": null,
   "metadata": {},
   "outputs": [],
   "source": [
    "import hashlib \n",
    "\n",
    "sse = json.load(open('sample_sse_bulk.json', 'r'))\n",
    "print(\"SSE digest :\", sse['generated']['digest']['digestValue'])\n",
    "\n",
    "with open('output.dat', 'rb') as f:\n",
    "    fileDigest=hashlib.sha512(f.read()).hexdigest()\n",
    "    print('File digest:', fileDigest)"
   ]
  }
 ],
 "metadata": {
  "hide_input": false,
  "kernelspec": {
   "display_name": "Python 3 (ipykernel)",
   "language": "python",
   "name": "python3"
  },
  "language_info": {
   "codemirror_mode": {
    "name": "ipython",
    "version": 3
   },
   "file_extension": ".py",
   "mimetype": "text/x-python",
   "name": "python",
   "nbconvert_exporter": "python",
   "pygments_lexer": "ipython3",
   "version": "3.9.6"
  },
  "pycharm": {
   "stem_cell": {
    "cell_type": "raw",
    "metadata": {
     "collapsed": false
    },
    "source": []
   }
  }
 },
 "nbformat": 4,
 "nbformat_minor": 4
}
