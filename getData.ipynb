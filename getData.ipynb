{
 "cells": [
  {
   "cell_type": "markdown",
   "metadata": {
    "tags": [
     "intro"
    ]
   },
   "source": [
    "# HAPI V2 Training\n",
    "\n",
    "## Chapter 2 - MDS with GetData\n",
    "\n",
    "This sample shows how to create a new MDS request.\n",
    "\n",
    "#### Table of Content\n",
    "- Section 1 - Initialization\n",
    "- Section 2 - Universes/FieldLists/Trigger\n",
    "- Section 3 - GetData Request\n",
    "- Section 4 - Download dataset"
   ]
  },
  {
   "cell_type": "markdown",
   "metadata": {},
   "source": [
    "### Section 1 - Initialization\n",
    "- Import related libraries\n",
    "- Mention the requirements.txt (e.g. pyjwt need to be installed)"
   ]
  },
  {
   "cell_type": "code",
   "execution_count": null,
   "metadata": {},
   "outputs": [],
   "source": [
    "import json\n",
    "import requests\n",
    "from datetime import datetime"
   ]
  },
  {
   "cell_type": "markdown",
   "metadata": {},
   "source": [
    "- Use the beap_auth.py to handle HAPI authentication\n",
    "- Load credentials from *credential.txt* file you have obtained from *https://console.bloomberg.com*"
   ]
  },
  {
   "cell_type": "code",
   "execution_count": null,
   "metadata": {},
   "outputs": [],
   "source": [
    "from beap_auth import Credentials, BEAPAdapter\n",
    "CREDS = Credentials.from_file('Credentials/credential_MDS.txt')\n",
    "\n",
    "adapter = BEAPAdapter(CREDS, api_version='2') # if not specified, api_version will default to '2' except for CUSTs on exception list\n",
    "session = requests.Session()\n",
    "session.mount('https://', adapter)\n",
    "HOST = 'https://api.bloomberg.com' # 'https://api.blpprofessional.com' for China"
   ]
  },
  {
   "cell_type": "markdown",
   "metadata": {
    "tags": [
     "main"
    ]
   },
   "source": [
    "- Construct the URL that will be the prefix for the other requests\n",
    "Catalogs\n",
    "\n",
    "https://service.blpprofessional.com/track_download/assets/HAPI/#tag/catalog\n",
    "\n",
    "https://service.blpprofessional.com/track_download/assets/data-license/#2-5-catalogs"
   ]
  },
  {
   "cell_type": "code",
   "execution_count": null,
   "metadata": {
    "tags": [
     "main"
    ]
   },
   "outputs": [],
   "source": [
    "account_url = HOST+'/eap/catalogs/781890/'\n",
    "bbg_url = HOST+'/eap/catalogs/bbg/'\n",
    "print(\"Account catalog URL  :\", account_url)\n",
    "print(\"Bloomberg catalog URL:\", bbg_url)"
   ]
  },
  {
   "cell_type": "markdown",
   "metadata": {},
   "source": [
    "- Create a variable using your own login name, which will be used as identifier later"
   ]
  },
  {
   "cell_type": "code",
   "execution_count": null,
   "metadata": {},
   "outputs": [],
   "source": [
    "login_name = 'replace_this_with_your_login' # e.g. yliu1436"
   ]
  },
  {
   "cell_type": "markdown",
   "metadata": {},
   "source": [
    "## Section 2 - Three Resources\n",
    "#### CRUD actions on resources:\n",
    "- C: Resources can be created using **POST**.\n",
    "- R: Resources can be read using **GET**.\n",
    "- U: Resources can be updated using **PATCH**.\n",
    "- D: Resources **CANNOT** be deleted"
   ]
  },
  {
   "cell_type": "markdown",
   "metadata": {
    "tags": [
     "main"
    ]
   },
   "source": [
    "### Section 2.1 Query Universes\n",
    "\n",
    "- We can use a pre-defined/dynamic universe provided in the 'bbg' catalog.  This universe is only expanded when the request is being transformed to an output when your request is scheduled to run.\n",
    "BUT,\n",
    "- For the purpose of this demo we will be using specific TICKERS\n",
    "- https://service.blpprofessional.com/track_download/assets/HAPI/#tag/universes"
   ]
  },
  {
   "cell_type": "markdown",
   "metadata": {
    "tags": [
     "main"
    ]
   },
   "source": [
    "#### 2.1.1 Query BBG predefined universes"
   ]
  },
  {
   "cell_type": "code",
   "execution_count": null,
   "metadata": {
    "scrolled": true
   },
   "outputs": [],
   "source": [
    "url = bbg_url + 'universes/?pageSize=1500'\n",
    "print(\"GET URL:\", url)\n",
    "resp = session.get(url)\n",
    "print('RESPONSE:\\n', json.dumps(resp.json(), indent=4))"
   ]
  },
  {
   "cell_type": "markdown",
   "metadata": {},
   "source": [
    "#### 2.1.2 - Query custom universes\n",
    "https://service.blpprofessional.com/track_download/assets/HAPI/#operation/getUniverses"
   ]
  },
  {
   "cell_type": "code",
   "execution_count": null,
   "metadata": {},
   "outputs": [],
   "source": [
    "url = account_url + 'universes/?pageSize=1500'\n",
    "print(\"GET URL:\", url)\n",
    "resp = session.get(url)\n",
    "print('Total Custom Universes:', resp.json()['totalItems'])\n",
    "print('Total Pages:', resp.json()['pageCount'])\n",
    "print('RESPONSE:\\n', json.dumps(resp.json(), indent=4))"
   ]
  },
  {
   "cell_type": "markdown",
   "metadata": {},
   "source": [
    "<div class=\"alert alert-block alert-success\">\n",
    "    \n",
    "## Task #1\n",
    "\n",
    "- Find the total number of BBG pre-defined universes.\n",
    "\n",
    "</div>"
   ]
  },
  {
   "cell_type": "code",
   "execution_count": null,
   "metadata": {},
   "outputs": [],
   "source": [
    "# type your code here"
   ]
  },
  {
   "cell_type": "markdown",
   "metadata": {},
   "source": [
    "#### 2.1.3 Create Custom Universe\n",
    "https://service.blpprofessional.com/track_download/assets/HAPI/#operation/postUniverse"
   ]
  },
  {
   "cell_type": "code",
   "execution_count": null,
   "metadata": {},
   "outputs": [],
   "source": [
    "\n",
    "universe_id = 'HAPI2TrainingUniverse'+ login_name\n",
    "universe_payload = {\n",
    "    '@type': 'Universe',\n",
    "    'identifier': universe_id,\n",
    "    'title': 'HAPI V2 Training - Universe of ' + login_name,\n",
    "    'description': 'Some description',\n",
    "    'contains': [\n",
    "        {\n",
    "            '@type': 'Identifier',\n",
    "            'identifierType': 'BB_GLOBAL',\n",
    "            'identifierValue': 'BBG009S3NB30',  # GOOG US Equity\n",
    "        },\n",
    "        {\n",
    "            '@type': 'Identifier',\n",
    "            'identifierType': 'ISIN',\n",
    "            'identifierValue': 'US88160R1014',  # TSLA US Equity\n",
    "        },\n",
    "    ]\n",
    "}\n",
    "\n",
    "\n",
    "url = account_url+'universes/'\n",
    "print(datetime.now(), \"POST URL:\", url)\n",
    "print('POST DATA:\\n',json.dumps(universe_payload, indent=4))\n",
    "# Note the universes URL we are POSTing to is same as where we GET from in previous step\n",
    "response = session.post(url, json=universe_payload)\n",
    "\n",
    "# Check it went well and extract the URL of the created universe\n",
    "print('RESPONSE:\\n', json.dumps(response.json(), indent=4))\n",
    "response.raise_for_status()\n",
    "\n",
    "universe_location = response.headers['Location']\n",
    "universe_url = HOST+universe_location\n",
    "print(datetime.now(), 'Universe successfully created at', universe_url)"
   ]
  },
  {
   "cell_type": "markdown",
   "metadata": {},
   "source": [
    "#### 2.1.4 Query the list of securities in the newly created universe"
   ]
  },
  {
   "cell_type": "code",
   "execution_count": null,
   "metadata": {},
   "outputs": [],
   "source": [
    "resp = session.get(universe_url)\n",
    "resp.json()['contains']"
   ]
  },
  {
   "cell_type": "markdown",
   "metadata": {},
   "source": [
    "#### 2.1.5 Add a new security to the universe.\n",
    "https://service.blpprofessional.com/track_download/assets/HAPI/#operation/patchUniverse"
   ]
  },
  {
   "cell_type": "code",
   "execution_count": null,
   "metadata": {
    "tags": [
     "main"
    ]
   },
   "outputs": [],
   "source": [
    "update_payload = {\n",
    "    'contains': universe_payload['contains'] + [{'@type':'Identifier', 'identifierType': 'TICKER', 'identifierValue' : '5 HK Equity'}]\n",
    "}\n",
    "\n",
    "# Use HTTP PATCH to update the resource\n",
    "resp = session.patch(universe_url, json=update_payload)\n",
    "resp"
   ]
  },
  {
   "cell_type": "code",
   "execution_count": null,
   "metadata": {},
   "outputs": [],
   "source": [
    "resp = session.get(universe_url)\n",
    "resp.json()['contains']"
   ]
  },
  {
   "cell_type": "markdown",
   "metadata": {},
   "source": [
    "#### 2.1.6 Delete a security from a universe\n",
    "https://service.blpprofessional.com/track_download/assets/HAPI/#operation/patchUniverse"
   ]
  },
  {
   "cell_type": "code",
   "execution_count": null,
   "metadata": {},
   "outputs": [],
   "source": [
    "update_payload['contains'].remove({'@type': 'Identifier','identifierType': 'BB_GLOBAL','identifierValue': 'BBG009S3NB30'})\n",
    "\n",
    "update_payload_v2 = {\n",
    "    'contains': update_payload['contains']\n",
    "}\n",
    "\n",
    "print(datetime.now(), 'POST URL:', universe_url)\n",
    "print(datetime.now(), 'POST DATA:', update_payload_v2)\n",
    "\n",
    "# Use HTTP PATCH to update the resource\n",
    "resp = session.patch(universe_url, json=update_payload_v2)\n",
    "resp"
   ]
  },
  {
   "cell_type": "code",
   "execution_count": null,
   "metadata": {},
   "outputs": [],
   "source": [
    "resp = session.get(universe_url)\n",
    "resp.json()['contains']"
   ]
  },
  {
   "cell_type": "markdown",
   "metadata": {
    "tags": [
     "main"
    ]
   },
   "source": [
    "### Section 2.2 Field List"
   ]
  },
  {
   "cell_type": "markdown",
   "metadata": {
    "tags": [
     "main"
    ]
   },
   "source": [
    "- Create the field list component. Please note that \"@type\" is different for fields used GETDATA and GETHISTORY.\n",
    "- GETDATA will have '@type': 'DataFieldList'\n",
    "- GETHISTORY will have '@type': 'HistoryFieldList'\n",
    "- https://service.blpprofessional.com/track_download/assets/HAPI/#tag/fieldLists"
   ]
  },
  {
   "cell_type": "markdown",
   "metadata": {},
   "source": [
    "#### 2.2.1 - Query Field Lists\n",
    "https://service.blpprofessional.com/track_download/assets/HAPI/#operation/getFieldLists"
   ]
  },
  {
   "cell_type": "code",
   "execution_count": null,
   "metadata": {},
   "outputs": [],
   "source": [
    "url = account_url + 'fieldLists/'\n",
    "print(\"GET URL:\", url)\n",
    "resp = session.get(url)\n",
    "print('Total field lists:', resp.json()['totalItems'])\n",
    "print('Total Pages:', resp.json()['pageCount'])\n",
    "print('RESPONSE:\\n', json.dumps(resp.json(), indent=4))"
   ]
  },
  {
   "cell_type": "markdown",
   "metadata": {},
   "source": [
    "- You can specify a larger pageSize to avoid paging"
   ]
  },
  {
   "cell_type": "code",
   "execution_count": null,
   "metadata": {},
   "outputs": [],
   "source": [
    "url = account_url + 'fieldLists/?pageSize=1500'\n",
    "print(\"GET URL:\", url)\n",
    "resp = session.get(url)\n",
    "print('Total field lists:', resp.json()['totalItems'])\n",
    "print('Total Pages:', resp.json()['pageCount'])\n",
    "print('RESPONSE:\\n', json.dumps(resp.json(), indent=4))"
   ]
  },
  {
   "cell_type": "markdown",
   "metadata": {},
   "source": [
    "#### 2.2.2 Create a DataFieldList\n",
    "https://service.blpprofessional.com/track_download/assets/HAPI/#operation/postFieldList"
   ]
  },
  {
   "cell_type": "code",
   "execution_count": null,
   "metadata": {},
   "outputs": [],
   "source": [
    "fieldlist_id = 'HAPI2TrainingDataFieldList'+login_name\n",
    "fieldlist_payload = {\n",
    "    '@type': 'DataFieldList',\n",
    "    'identifier': fieldlist_id,\n",
    "    'title': 'HAPI v2 Training - DataFieldList of '+login_name,\n",
    "    'description': 'Some description',\n",
    "    'contains': [\n",
    "        {'cleanName': 'name'},\n",
    "        {'cleanName': 'pxLast'}\n",
    "    ],\n",
    "}\n",
    "fieldlist_payload\n",
    "url = account_url+'fieldLists/'\n",
    "print(datetime.now(), 'POST URL:', url)\n",
    "print(datetime.now(), 'POST DATA:\\n', json.dumps(fieldlist_payload, indent=4))\n",
    "resp = session.post(url, json=fieldlist_payload)\n",
    "# Check it went well and extract the URL of the created field list\n",
    "print('RESPONSE: \\n', json.dumps(resp.json(), indent = 4))\n",
    "resp.raise_for_status()\n",
    "\n",
    "fieldlist_location = resp.headers['Location']\n",
    "fieldlist_url = HOST+fieldlist_location\n",
    "print(datetime.now(), 'Field list successfully created:', fieldlist_url)"
   ]
  },
  {
   "cell_type": "markdown",
   "metadata": {
    "tags": [
     "main"
    ]
   },
   "source": [
    "#### 2.2.3 Inspect the newly-created field list component"
   ]
  },
  {
   "cell_type": "code",
   "execution_count": null,
   "metadata": {
    "tags": [
     "main"
    ]
   },
   "outputs": [],
   "source": [
    "resp=session.get(fieldlist_url)\n",
    "resp.json()['contains']"
   ]
  },
  {
   "cell_type": "markdown",
   "metadata": {},
   "source": [
    "#### 2.2.4 Add a field to the field list"
   ]
  },
  {
   "cell_type": "code",
   "execution_count": null,
   "metadata": {},
   "outputs": [],
   "source": [
    "update_payload = {\n",
    "    'contains': fieldlist_payload['contains'] + [{'cleanName':'pxBid'}, {'cleanName':'pxAsk'}]\n",
    "}\n",
    "\n",
    "# Use HTTP PATCH to update the resource\n",
    "resp = session.patch(fieldlist_url, json=update_payload)\n",
    "resp"
   ]
  },
  {
   "cell_type": "code",
   "execution_count": null,
   "metadata": {},
   "outputs": [],
   "source": [
    "resp = session.get(fieldlist_url)\n",
    "resp.json()['contains']"
   ]
  },
  {
   "cell_type": "markdown",
   "metadata": {},
   "source": [
    "#### 2.2.5 Delete a field from the field lists"
   ]
  },
  {
   "cell_type": "code",
   "execution_count": null,
   "metadata": {},
   "outputs": [],
   "source": [
    "update_payload['contains'].remove({'cleanName':'pxBid'})\n",
    "\n",
    "update_payload_v2 = {\n",
    "    'contains': update_payload['contains']\n",
    "}\n",
    "\n",
    "print(datetime.now(), 'POST URL:', fieldlist_url)\n",
    "print(datetime.now(), 'POST DATA:', update_payload)\n",
    "\n",
    "# Use HTTP PATCH to update the resource\n",
    "resp = session.patch(fieldlist_url, json=update_payload_v2)\n",
    "resp"
   ]
  },
  {
   "cell_type": "code",
   "execution_count": null,
   "metadata": {},
   "outputs": [],
   "source": [
    "resp = session.get(fieldlist_url)\n",
    "resp.json()['contains']"
   ]
  },
  {
   "cell_type": "markdown",
   "metadata": {
    "tags": [
     "main"
    ]
   },
   "source": [
    "### Section 2.3 Trigger\n",
    "\n",
    "Trigger defines time and recurrence of request.\n",
    "\n",
    "https://service.blpprofessional.com/track_download/assets/HAPI/#tag/triggers"
   ]
  },
  {
   "cell_type": "markdown",
   "metadata": {},
   "source": [
    "### 2.3.1 - Query existing triggers\n",
    "https://service.blpprofessional.com/track_download/assets/HAPI/#operation/getTriggers"
   ]
  },
  {
   "cell_type": "markdown",
   "metadata": {},
   "source": [
    "- Again, you can specify a larger pageSize to avoid paging"
   ]
  },
  {
   "cell_type": "code",
   "execution_count": null,
   "metadata": {},
   "outputs": [],
   "source": [
    "url = account_url + 'triggers/?pageSize=1500'\n",
    "print(\"GET URL:\", url)\n",
    "resp = session.get(url)\n",
    "print('Total Custom Triggers:', resp.json()['totalItems'])\n",
    "print('Total Pages:', resp.json()['pageCount'])\n",
    "print('RESPONSE: \\n', json.dumps(resp.json(), indent = 4))"
   ]
  },
  {
   "cell_type": "markdown",
   "metadata": {
    "tags": [
     "main"
    ]
   },
   "source": [
    "### 2.3.2 Fetch and print out the pre-defined BBG trigger\n",
    "We use a pre-defined trigger component. Bloomberg provides a common trigger component named 'submit', which is equivalent to the traditional 'adhoc' program flag in DL per-security. It will run your request as soon as allowable after you submit your request."
   ]
  },
  {
   "cell_type": "code",
   "execution_count": null,
   "metadata": {
    "tags": [
     "main"
    ]
   },
   "outputs": [],
   "source": [
    "trigger_url = bbg_url+'triggers/submit/'\n",
    "resp = session.get(trigger_url)\n",
    "resp.json()"
   ]
  },
  {
   "cell_type": "markdown",
   "metadata": {},
   "source": [
    "### 2.3.3 Create your own custom trigger\n",
    "https://service.blpprofessional.com/track_download/assets/HAPI/#operation/postTrigger"
   ]
  },
  {
   "cell_type": "code",
   "execution_count": null,
   "metadata": {},
   "outputs": [],
   "source": [
    "trigger_id = 'HAPI2TrainingTrigger1'+login_name\n",
    "\n",
    "trigger_payload = {\n",
    "    '@type': 'ScheduledTrigger',\n",
    "    'identifier': trigger_id,\n",
    "    'title': trigger_id,\n",
    "    'frequency': 'daily',\n",
    "    'startDate': '2020-05-11',  # YYYY-MM-DD\n",
    "    'startTime': '18:00:00',    # HH:MM:SS\n",
    "}\n",
    "\n",
    "url = account_url+'triggers/'\n",
    "\n",
    "print('POST URL:', url)\n",
    "print('POST DATA:\\n', json.dumps(trigger_payload, indent=4))\n",
    "resp = session.post(url, json=trigger_payload)\n",
    "resp.json()"
   ]
  },
  {
   "cell_type": "code",
   "execution_count": null,
   "metadata": {},
   "outputs": [],
   "source": [
    "session.get(url+trigger_id).json()"
   ]
  },
  {
   "cell_type": "markdown",
   "metadata": {},
   "source": [
    "#### 2.3.4 Update trigger resource."
   ]
  },
  {
   "cell_type": "code",
   "execution_count": null,
   "metadata": {},
   "outputs": [],
   "source": [
    "trigger_payload_updated={\n",
    "    'title': trigger_id,\n",
    "    'description' : \"Weekend Trigger\",\n",
    "    'frequency': 'weekend',\n",
    "    'startDate': '2020-05-16',  # YYYY-MM-DD\n",
    "    'startTime': '18:00:00'   # HH:MM:SS\n",
    "}\n",
    "\n",
    "# Use HTTP PATCH to update the resource\n",
    "resp = session.patch(url+trigger_id, json=trigger_payload_updated)\n",
    "resp"
   ]
  },
  {
   "cell_type": "markdown",
   "metadata": {},
   "source": [
    "### Summary of Universe, fieldLists and Triggers."
   ]
  },
  {
   "cell_type": "code",
   "execution_count": null,
   "metadata": {},
   "outputs": [],
   "source": [
    "# universe_url=account_url+'universes/HAPI2TrainingUniverseyliu1436'\n",
    "# fieldlist_url = account_url+'fieldLists/HAPI2TrainingHistoryFieldListyliu1436'\n",
    "# Verify whether your have created correct resources\n",
    "print(\"Universe you selected is \"+universe_url)\n",
    "print(\"FieldLists you selected is \"+fieldlist_url)\n",
    "print(\"Trigger you selected is \"+trigger_url)"
   ]
  },
  {
   "cell_type": "markdown",
   "metadata": {},
   "source": [
    "## Section 3 - GetData Request"
   ]
  },
  {
   "cell_type": "markdown",
   "metadata": {
    "tags": [
     "main"
    ]
   },
   "source": [
    "If we've got this far, we should have all the components required for defining a request"
   ]
  },
  {
   "cell_type": "markdown",
   "metadata": {
    "tags": [
     "main"
    ]
   },
   "source": [
    "### 3.1 Create the request component\n",
    "https://service.blpprofessional.com/track_download/assets/HAPI/#operation/postRequest"
   ]
  },
  {
   "cell_type": "code",
   "execution_count": null,
   "metadata": {
    "tags": [
     "main"
    ]
   },
   "outputs": [],
   "source": [
    "# NOTE The request_id must be 21 characters or less and should be Unique as well.\n",
    "# Therefore, please increment the request_id each time\n",
    "request_id = login_name+'GetData001' # increment the number 001 when necessary\n",
    "request_payload = {\n",
    "    '@type': 'DataRequest',\n",
    "    'identifier': request_id,\n",
    "    'title': request_id,\n",
    "    'description': 'Get Data Request for ' + login_name,\n",
    "    # 3 key resources\n",
    "    'universe': universe_url,\n",
    "    'fieldList': fieldlist_url,\n",
    "    'trigger': trigger_url,\n",
    "    # optional formatting\n",
    "    'formatting': {\n",
    "        '@type': 'DataFormat',\n",
    "        'columnHeader': True,\n",
    "        'dateFormat': 'yyyymmdd',\n",
    "        'delimiter': '|',\n",
    "        'fileType': 'unixFileType',\n",
    "        'outputFormat': 'variableOutputFormat',\n",
    "    },\n",
    "    'pricingSourceOptions': {\n",
    "        '@type': 'DataPricingSourceOptions',\n",
    "        'prefer': {'mnemonic': 'BGN'}\n",
    "    },\n",
    "}\n",
    "\n",
    "\n",
    "url = account_url+'requests'\n",
    "print(datetime.now(), 'POST URL:', url)\n",
    "print(datetime.now(), 'POST DATA:\\n', json.dumps(request_payload, indent=4))\n",
    "\n",
    "resp = session.post(url, json=request_payload)\n",
    "# Check it went well and extract the URL of the created request\n",
    "print(resp.json())\n",
    "resp.raise_for_status()\n",
    "\n",
    "request_location = resp.headers['Location']\n",
    "request_url = HOST+request_location\n",
    "print(datetime.now(), 'Request has been successfully created:',request_url)"
   ]
  },
  {
   "cell_type": "markdown",
   "metadata": {
    "tags": [
     "main"
    ]
   },
   "source": [
    "### Section 4 - Download Custom Dataset\n",
    "\n",
    "Once request was successfully created it is accepted to execution by the HAPI service.  \n",
    "Multiple ways in which clients could download the response dataset.\n",
    "-  Continuously polling the URL of the dataset to see if the snapshot is available for download, if yes then use the download_distribution() or any custom method to download the dataset.\n",
    "-  Use SSE notification which will return an event to notify that the snapshot is now available for download."
   ]
  },
  {
   "cell_type": "code",
   "execution_count": null,
   "metadata": {
    "tags": [
     "def"
    ]
   },
   "outputs": [],
   "source": [
    "def download_distribution(session_, url, out_path, chunk_size=8192,\n",
    "                          stream=True, headers=None):\n",
    "    \"\"\"\n",
    "    Function to download the data to an output directory\n",
    "\n",
    "    This function opts for the gzip output encoding by default and allows the\n",
    "    user to specify the output location of this download. This function works\n",
    "    for a single endpoint.\n",
    "\n",
    "    You may set the 'Accept-Encoding' header to 'Identity' if you do not\n",
    "    want to receive the gzipped file.\n",
    "\n",
    "    Set 'chunk_size' to a larger byte size to speed up download process on\n",
    "    larger downloads.\n",
    "    \"\"\"\n",
    "    headers = headers or {'Accept-Encoding': 'Identity'}\n",
    "\n",
    "    if headers['Accept-Encoding'] == 'gzip':\n",
    "        out_path += '.gz'\n",
    "\n",
    "    print(datetime.now(), 'Start downloading:', url)\n",
    "    with session_.get(url, stream=stream, headers=headers) as response_:\n",
    "        with open(out_path, 'wb') as out_file:\n",
    "            for chunk in response_.raw.stream(chunk_size, decode_content=False):\n",
    "                out_file.write(chunk)\n",
    "            print(datetime.now(), 'Downloaded to:', out_file.name)\n",
    "            return response_"
   ]
  },
  {
   "cell_type": "markdown",
   "metadata": {},
   "source": [
    "### 4.1 Poll until distriubtion is ready for download\n",
    "- The way you poll is keep running the below cell and see if there is any date within key \"contains\" is returned. If yes, then the response file is available for download for that date. If nothing is returned, then the file is still not available."
   ]
  },
  {
   "cell_type": "code",
   "execution_count": null,
   "metadata": {},
   "outputs": [],
   "source": [
    "snap_url = '{a}datasets/{r}/snapshots/'.format(a=account_url, r =request_id  )\n",
    "\n",
    "snapshot_resp = session.get(snap_url)\n",
    "resp = snapshot_resp.json()\n",
    "resp"
   ]
  },
  {
   "cell_type": "markdown",
   "metadata": {},
   "source": [
    "### 4.2 Download distribution\n",
    "\n",
    "Now that we see a date, we can go ahead and create the URL for downloading the file. Information required to create the URL are:\n",
    "- Snapshot date = Value of key '@id' in JSON response above OR use \"latest\" as shortcut which defaults to the latest available date. So if you have only 1 date, then that itself is the latest. If there are multiple dates like [20200501, 20200502, 20200503] then latest will default to 20200503.\n",
    "- Request id = Name of request file (request_id) with \".bbg\" extension.\n",
    "- Location where you wish to store your response file."
   ]
  },
  {
   "cell_type": "code",
   "execution_count": null,
   "metadata": {},
   "outputs": [],
   "source": [
    "snap_date = 'latest' ## Or use the date in \"@id\" key above example '20200511'\n",
    "\n",
    "download_url = snap_url+snap_date+\"/distributions/\"+request_id+\".bbg\"\n",
    "output_file = request_id+\".bbg\"\n",
    "\n",
    "print(\"GETDATA response will be downloaded using URL: \"+download_url)\n",
    "\n",
    "## Now lets call download_distribution() and pass the URL for downloading the latest snapshot.\n",
    "download_resp = download_distribution(session, download_url, output_file, chunk_size=4096)\n",
    "download_resp.status_code"
   ]
  },
  {
   "cell_type": "code",
   "execution_count": null,
   "metadata": {},
   "outputs": [],
   "source": []
  }
 ],
 "metadata": {
  "kernelspec": {
   "display_name": "Python 3",
   "language": "python",
   "name": "python3"
  },
  "language_info": {
   "codemirror_mode": {
    "name": "ipython",
    "version": 3
   },
   "file_extension": ".py",
   "mimetype": "text/x-python",
   "name": "python",
   "nbconvert_exporter": "python",
   "pygments_lexer": "ipython3",
   "version": "3.7.3"
  }
 },
 "nbformat": 4,
 "nbformat_minor": 2
}
